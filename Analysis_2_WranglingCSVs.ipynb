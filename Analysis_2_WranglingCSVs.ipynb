{
 "cells": [
  {
   "attachments": {},
   "cell_type": "markdown",
   "metadata": {},
   "source": [
    "# Homework 2 - Analysis 2 - Wrangling CSVs"
   ]
  },
  {
   "cell_type": "code",
   "execution_count": 108,
   "metadata": {},
   "outputs": [],
   "source": [
    "# import xlwings as xw # I prefer xlwings for all excel work\n",
    "import openpyxl as op"
   ]
  },
  {
   "attachments": {},
   "cell_type": "markdown",
   "metadata": {},
   "source": [
    "### Step 1 - Project Setup"
   ]
  },
  {
   "attachments": {},
   "cell_type": "markdown",
   "metadata": {},
   "source": [
    "### Step 2 - Create a blank Excel file named BCM.xlsx"
   ]
  },
  {
   "cell_type": "code",
   "execution_count": 109,
   "metadata": {},
   "outputs": [],
   "source": [
    "# we need to create the blank workbook that we are going to copy our excel sheets into\n",
    "wb = op.Workbook()\n",
    "\n",
    "# let's save our workbook as BCM.xlsx in our output folder\n",
    "wb.save(r\"output\\BCM.xlsx\")"
   ]
  },
  {
   "attachments": {},
   "cell_type": "markdown",
   "metadata": {},
   "source": [
    "### Step 3 - Insert the contents of each CSV into a new sheet in BCM.xlsx"
   ]
  },
  {
   "cell_type": "code",
   "execution_count": 110,
   "metadata": {},
   "outputs": [],
   "source": [
    "# To approach this, we're going to get the file name of each csv and store them in a list\n",
    "# Then were going to iterate through that list and create a new sheet in the workbook for\n",
    "# each csv\n",
    "from pathlib import Path\n",
    "\n",
    "file_list = []\n",
    "\n",
    "p = Path(r\"data\\raw\").glob(\"*.csv\")\n",
    "\n",
    "f = [x for x in p if x.is_file()]"
   ]
  },
  {
   "cell_type": "code",
   "execution_count": 111,
   "metadata": {},
   "outputs": [],
   "source": [
    "# were going to use pandas for this because openpyxl sucks for csvs\n",
    "import pandas as pd\n",
    "import xlsxwriter\n",
    "\n",
    "# use pandas in combination with xlsxwriter\n",
    "writer = pd.ExcelWriter(\"output\\\\BCM.xlsx\", engine = 'xlsxwriter')\n",
    "\n",
    "# now lets iterate through our list of files and put them in new sheets\n",
    "for file in f:\n",
    "    temp_df = pd.read_csv(filepath_or_buffer=file, header=None)\n",
    "    # create a new sheet in our BCM workbook with the name of the file\n",
    "    temp_name = str(file).replace(\"data\\\\raw\\\\\", \"\").replace(\".csv\", \"\")\n",
    "    # now take data and put it in the sheet\n",
    "    temp_df.to_excel(\n",
    "        writer, \n",
    "        sheet_name = temp_name,\n",
    "        header=False,\n",
    "        index=False\n",
    "    )\n",
    "\n",
    "writer.close()"
   ]
  },
  {
   "attachments": {},
   "cell_type": "markdown",
   "metadata": {},
   "source": [
    "### Step 4 - Add the Formulas"
   ]
  },
  {
   "cell_type": "code",
   "execution_count": 112,
   "metadata": {},
   "outputs": [],
   "source": [
    "# Reopen the new excel with openpxyl\n",
    "wb = op.load_workbook(\"output\\\\BCM.xlsx\")"
   ]
  },
  {
   "cell_type": "code",
   "execution_count": 113,
   "metadata": {},
   "outputs": [],
   "source": [
    "# add formulas\n",
    "# datetime | scale | temperature\n",
    "\n",
    "# get a list of sheet names\n",
    "sheets = [str(x).replace(\"data\\\\raw\\\\\", \"\").replace(\".csv\", \"\") for x in f]\n",
    "\n",
    "for s in sheets:\n",
    "    wb[s][\"G2\"] = \"min_temp\"\n",
    "    wb[s][\"G3\"] = \"max_temp\"\n",
    "    wb[s][\"G4\"] = \"mean_temp\"\n",
    "\n",
    "    wb[s][\"G6\"] = \"min_date\"\n",
    "    wb[s][\"G7\"] = \"max_date\"\n",
    "\n",
    "    wb[s][\"H2\"] = \"=MIN(C:C)\"\n",
    "    wb[s][\"H3\"] = \"=MAX(C:C)\"\n",
    "    wb[s][\"H4\"] = \"=AVERAGE(C:C)\"\n",
    "\n",
    "    wb[s][\"H6\"] = \"=MIN(A:A)\"\n",
    "    wb[s][\"H7\"] = \"=MAX(A:A)\"\n",
    "\n",
    "wb.save(\"output\\\\BCM.xlsx\")"
   ]
  }
 ],
 "metadata": {
  "kernelspec": {
   "display_name": "Python 3",
   "language": "python",
   "name": "python3"
  },
  "language_info": {
   "codemirror_mode": {
    "name": "ipython",
    "version": 3
   },
   "file_extension": ".py",
   "mimetype": "text/x-python",
   "name": "python",
   "nbconvert_exporter": "python",
   "pygments_lexer": "ipython3",
   "version": "3.10.4"
  },
  "orig_nbformat": 4
 },
 "nbformat": 4,
 "nbformat_minor": 2
}
