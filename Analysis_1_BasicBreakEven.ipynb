{
 "cells": [
  {
   "attachments": {},
   "cell_type": "markdown",
   "metadata": {
    "Collapsed": "false"
   },
   "source": [
    "# HW 2 AAP - Excel with Python\n",
    "\n",
    "Notebook for assignment 2 using Python in Excel to do various things..."
   ]
  },
  {
   "attachments": {},
   "cell_type": "markdown",
   "metadata": {
    "Collapsed": "false"
   },
   "source": [
    "## Preliminaries"
   ]
  },
  {
   "cell_type": "code",
   "execution_count": 20,
   "metadata": {
    "Collapsed": "false"
   },
   "outputs": [
    {
     "name": "stdout",
     "output_type": "stream",
     "text": [
      "The autoreload extension is already loaded. To reload it, use:\n",
      "  %reload_ext autoreload\n"
     ]
    }
   ],
   "source": [
    "# To auto-reload modules in jupyter notebook (so that changes in files *.py doesn't require manual reloading):\n",
    "# https://stackoverflow.com/questions/5364050/reloading-submodules-in-ipython\n",
    "%load_ext autoreload\n",
    "%autoreload 2"
   ]
  },
  {
   "attachments": {},
   "cell_type": "markdown",
   "metadata": {
    "Collapsed": "false"
   },
   "source": [
    "Import commonly used libraries and magic command for inline plotting"
   ]
  },
  {
   "cell_type": "code",
   "execution_count": 21,
   "metadata": {
    "Collapsed": "false"
   },
   "outputs": [],
   "source": [
    "import numpy as np\n",
    "import pandas as pd\n",
    "import matplotlib.pyplot as plt\n",
    "from mpl_toolkits.mplot3d import Axes3D\n",
    "import seaborn as sns"
   ]
  },
  {
   "cell_type": "code",
   "execution_count": 22,
   "metadata": {},
   "outputs": [],
   "source": [
    "%matplotlib inline"
   ]
  },
  {
   "attachments": {},
   "cell_type": "markdown",
   "metadata": {},
   "source": [
    "Now we need to import our whatif.py module that is provided with the assignment..."
   ]
  },
  {
   "cell_type": "code",
   "execution_count": 23,
   "metadata": {},
   "outputs": [],
   "source": [
    "from whatif import Model\n",
    "from whatif import get_sim_results_df"
   ]
  },
  {
   "attachments": {},
   "cell_type": "markdown",
   "metadata": {
    "Collapsed": "false"
   },
   "source": [
    "## Work\n",
    "\n",
    "This is where work gets done."
   ]
  },
  {
   "attachments": {},
   "cell_type": "markdown",
   "metadata": {},
   "source": [
    "### Analysis 1 - Basic Break Even Analysis"
   ]
  },
  {
   "attachments": {},
   "cell_type": "markdown",
   "metadata": {},
   "source": [
    "#### 1a - Base Model"
   ]
  },
  {
   "attachments": {},
   "cell_type": "markdown",
   "metadata": {},
   "source": [
    "Here we are going to setup our base model following along with the HW and the hw2 getting started video"
   ]
  },
  {
   "cell_type": "code",
   "execution_count": 24,
   "metadata": {
    "Collapsed": "false"
   },
   "outputs": [],
   "source": [
    "class SingleProductSPF(Model):\n",
    "    ### HW2 Base Model ###\n",
    "    def __init__(\n",
    "            self,\n",
    "            fixed_cost = 5000,\n",
    "            var_cost = 100,\n",
    "            selling_price = 115,\n",
    "            spf_constant = 4900,\n",
    "            spf_linear = -35,\n",
    "            spf_quadratic = 0.06\n",
    "        ):\n",
    "        self.fixed_cost = fixed_cost\n",
    "        self.var_cost = var_cost\n",
    "        self.selling_price = selling_price\n",
    "        self.spf_constant = spf_constant\n",
    "        self.spf_linear = spf_linear\n",
    "        self.spf_quadratic = spf_quadratic\n",
    "\n",
    "    def demand(self):\n",
    "        ### compute demand function ###\n",
    "        return (self.spf_quadratic * pow(self.selling_price, 2)) + (self.spf_linear * self.selling_price) + self.spf_constant\n",
    "    \n",
    "    def order_cost(self):\n",
    "        ### compute total order costs ###\n",
    "        order_c = (self.demand() * self.var_cost) + self.fixed_cost\n",
    "        return order_c\n",
    "\n",
    "    def sales_revenue(self):\n",
    "        ### compute sales revenue ###\n",
    "        sales_r = self.demand() * self.selling_price\n",
    "        return sales_r\n",
    "\n",
    "    def profit(self):\n",
    "        ### compute profit function ###\n",
    "        p = self.sales_revenue() - self.order_cost()\n",
    "        return p"
   ]
  },
  {
   "cell_type": "code",
   "execution_count": 25,
   "metadata": {},
   "outputs": [
    {
     "name": "stdout",
     "output_type": "stream",
     "text": [
      "1668.5\n",
      "20027.5\n"
     ]
    }
   ],
   "source": [
    "# Create our model\n",
    "model_1 = SingleProductSPF()\n",
    "\n",
    "# Test our demand function\n",
    "print(model_1.demand())\n",
    "\n",
    "# check our profit\n",
    "print(model_1.profit())"
   ]
  },
  {
   "attachments": {},
   "cell_type": "markdown",
   "metadata": {},
   "source": [
    "#### 1b - 1 Way Data Table\n",
    "\n",
    "Base model is finished... Now we are going to create a one-way data table using our `data_table` function"
   ]
  },
  {
   "cell_type": "code",
   "execution_count": 26,
   "metadata": {},
   "outputs": [
    {
     "data": {
      "text/html": [
       "<div>\n",
       "<style scoped>\n",
       "    .dataframe tbody tr th:only-of-type {\n",
       "        vertical-align: middle;\n",
       "    }\n",
       "\n",
       "    .dataframe tbody tr th {\n",
       "        vertical-align: top;\n",
       "    }\n",
       "\n",
       "    .dataframe thead th {\n",
       "        text-align: right;\n",
       "    }\n",
       "</style>\n",
       "<table border=\"1\" class=\"dataframe\">\n",
       "  <thead>\n",
       "    <tr style=\"text-align: right;\">\n",
       "      <th></th>\n",
       "      <th>selling_price</th>\n",
       "      <th>profit</th>\n",
       "      <th>demand</th>\n",
       "    </tr>\n",
       "  </thead>\n",
       "  <tbody>\n",
       "    <tr>\n",
       "      <th>0</th>\n",
       "      <td>80</td>\n",
       "      <td>-54680.0</td>\n",
       "      <td>2484.0</td>\n",
       "    </tr>\n",
       "    <tr>\n",
       "      <th>1</th>\n",
       "      <td>90</td>\n",
       "      <td>-27360.0</td>\n",
       "      <td>2236.0</td>\n",
       "    </tr>\n",
       "    <tr>\n",
       "      <th>2</th>\n",
       "      <td>100</td>\n",
       "      <td>-5000.0</td>\n",
       "      <td>2000.0</td>\n",
       "    </tr>\n",
       "    <tr>\n",
       "      <th>3</th>\n",
       "      <td>110</td>\n",
       "      <td>12760.0</td>\n",
       "      <td>1776.0</td>\n",
       "    </tr>\n",
       "    <tr>\n",
       "      <th>4</th>\n",
       "      <td>120</td>\n",
       "      <td>26280.0</td>\n",
       "      <td>1564.0</td>\n",
       "    </tr>\n",
       "    <tr>\n",
       "      <th>5</th>\n",
       "      <td>130</td>\n",
       "      <td>35920.0</td>\n",
       "      <td>1364.0</td>\n",
       "    </tr>\n",
       "    <tr>\n",
       "      <th>6</th>\n",
       "      <td>140</td>\n",
       "      <td>42040.0</td>\n",
       "      <td>1176.0</td>\n",
       "    </tr>\n",
       "  </tbody>\n",
       "</table>\n",
       "</div>"
      ],
      "text/plain": [
       "   selling_price   profit  demand\n",
       "0             80 -54680.0  2484.0\n",
       "1             90 -27360.0  2236.0\n",
       "2            100  -5000.0  2000.0\n",
       "3            110  12760.0  1776.0\n",
       "4            120  26280.0  1564.0\n",
       "5            130  35920.0  1364.0\n",
       "6            140  42040.0  1176.0"
      ]
     },
     "execution_count": 26,
     "metadata": {},
     "output_type": "execute_result"
    }
   ],
   "source": [
    "# set our price range based on the instructions\n",
    "price_range = {'selling_price' : np.arange(80, 150, 10)}\n",
    "\n",
    "# list our output\n",
    "outputs = ['profit', 'demand']\n",
    "\n",
    "# create our one way data table using the built in function the the `whatif.py` module\n",
    "m1_dt1_p_df = model_1.data_table(price_range, outputs)\n",
    "\n",
    "# check our dataframe\n",
    "m1_dt1_p_df"
   ]
  },
  {
   "cell_type": "code",
   "execution_count": 27,
   "metadata": {},
   "outputs": [
    {
     "data": {
      "image/png": "[encoded data removed]",
      "text/plain": [
       "<Figure size 648x648 with 7 Axes>"
      ]
     },
     "metadata": {
      "needs_background": "light"
     },
     "output_type": "display_data"
    }
   ],
   "source": [
    "# Now lets plot our one way data table for profit\n",
    "profit_dt = sns.FacetGrid(m1_dt1_p_df, col=\"selling_price\", sharey=True, col_wrap=3)\n",
    "profit_dt = profit_dt.map(plt.plot, \"demand\", \"profit\")"
   ]
  },
  {
   "attachments": {},
   "cell_type": "markdown",
   "metadata": {},
   "source": [
    "I feel like I did the plotting the exact same way and it won't work...\n",
    "\n",
    "Now we want to create a one way data table for demand..."
   ]
  },
  {
   "cell_type": "code",
   "execution_count": 28,
   "metadata": {},
   "outputs": [
    {
     "data": {
      "text/html": [
       "<div>\n",
       "<style scoped>\n",
       "    .dataframe tbody tr th:only-of-type {\n",
       "        vertical-align: middle;\n",
       "    }\n",
       "\n",
       "    .dataframe tbody tr th {\n",
       "        vertical-align: top;\n",
       "    }\n",
       "\n",
       "    .dataframe thead th {\n",
       "        text-align: right;\n",
       "    }\n",
       "</style>\n",
       "<table border=\"1\" class=\"dataframe\">\n",
       "  <thead>\n",
       "    <tr style=\"text-align: right;\">\n",
       "      <th></th>\n",
       "      <th>selling_price</th>\n",
       "      <th>demand</th>\n",
       "    </tr>\n",
       "  </thead>\n",
       "  <tbody>\n",
       "    <tr>\n",
       "      <th>0</th>\n",
       "      <td>80</td>\n",
       "      <td>2484.0</td>\n",
       "    </tr>\n",
       "    <tr>\n",
       "      <th>1</th>\n",
       "      <td>90</td>\n",
       "      <td>2236.0</td>\n",
       "    </tr>\n",
       "    <tr>\n",
       "      <th>2</th>\n",
       "      <td>100</td>\n",
       "      <td>2000.0</td>\n",
       "    </tr>\n",
       "    <tr>\n",
       "      <th>3</th>\n",
       "      <td>110</td>\n",
       "      <td>1776.0</td>\n",
       "    </tr>\n",
       "    <tr>\n",
       "      <th>4</th>\n",
       "      <td>120</td>\n",
       "      <td>1564.0</td>\n",
       "    </tr>\n",
       "    <tr>\n",
       "      <th>5</th>\n",
       "      <td>130</td>\n",
       "      <td>1364.0</td>\n",
       "    </tr>\n",
       "    <tr>\n",
       "      <th>6</th>\n",
       "      <td>140</td>\n",
       "      <td>1176.0</td>\n",
       "    </tr>\n",
       "  </tbody>\n",
       "</table>\n",
       "</div>"
      ],
      "text/plain": [
       "   selling_price  demand\n",
       "0             80  2484.0\n",
       "1             90  2236.0\n",
       "2            100  2000.0\n",
       "3            110  1776.0\n",
       "4            120  1564.0\n",
       "5            130  1364.0\n",
       "6            140  1176.0"
      ]
     },
     "execution_count": 28,
     "metadata": {},
     "output_type": "execute_result"
    }
   ],
   "source": [
    "# set our price range based on the instructions\n",
    "price_range = {'selling_price' : np.arange(80, 150, 10)}\n",
    "\n",
    "# list our output for profit\n",
    "output_d = ['demand']\n",
    "\n",
    "# create our one way data table using the built in function the the `whatif.py` module\n",
    "m1_dt_d_df = model_1.data_table(price_range, output_d)\n",
    "\n",
    "# check our dataframe\n",
    "m1_dt_d_df"
   ]
  },
  {
   "attachments": {},
   "cell_type": "markdown",
   "metadata": {},
   "source": [
    "#### 1c - Break Even"
   ]
  },
  {
   "cell_type": "code",
   "execution_count": 29,
   "metadata": {},
   "outputs": [
    {
     "ename": "TypeError",
     "evalue": "unsupported operand type(s) for -: 'float' and 'str'",
     "output_type": "error",
     "traceback": [
      "\u001b[1;31m---------------------------------------------------------------------------\u001b[0m",
      "\u001b[1;31mTypeError\u001b[0m                                 Traceback (most recent call last)",
      "\u001b[1;32mc:\\Users\\slidw\\Desktop\\AAwP\\hw2_aap\\hw2_aap\\Analysis_1_BasicBreakEven.ipynb Cell 21\u001b[0m in \u001b[0;36m<cell line: 1>\u001b[1;34m()\u001b[0m\n\u001b[1;32m----> <a href='vscode-notebook-cell:/c%3A/Users/slidw/Desktop/AAwP/hw2_aap/hw2_aap/Analysis_1_BasicBreakEven.ipynb#X26sZmlsZQ%3D%3D?line=0'>1</a>\u001b[0m break_even \u001b[39m=\u001b[39m model_1\u001b[39m.\u001b[39;49mgoal_seek(obj_fn\u001b[39m=\u001b[39;49m\u001b[39m'\u001b[39;49m\u001b[39mprofit\u001b[39;49m\u001b[39m'\u001b[39;49m, target\u001b[39m=\u001b[39;49m\u001b[39m'\u001b[39;49m\u001b[39mdemand\u001b[39;49m\u001b[39m'\u001b[39;49m, by_changing\u001b[39m=\u001b[39;49m\u001b[39m\"\u001b[39;49m\u001b[39mselling_price\u001b[39;49m\u001b[39m\"\u001b[39;49m, a\u001b[39m=\u001b[39;49m\u001b[39m0\u001b[39;49m, b\u001b[39m=\u001b[39;49m\u001b[39m0\u001b[39;49m, N\u001b[39m=\u001b[39;49m\u001b[39m1000\u001b[39;49m)\n",
      "File \u001b[1;32mc:\\Users\\slidw\\Desktop\\AAwP\\hw2_aap\\hw2_aap\\whatif.py:155\u001b[0m, in \u001b[0;36mModel.goal_seek\u001b[1;34m(self, obj_fn, target, by_changing, a, b, N)\u001b[0m\n\u001b[0;32m    152\u001b[0m \u001b[39msetattr\u001b[39m(model_clone, by_changing, b)\n\u001b[0;32m    153\u001b[0m f_b_0 \u001b[39m=\u001b[39m \u001b[39mgetattr\u001b[39m(model_clone, obj_fn)()\n\u001b[1;32m--> 155\u001b[0m \u001b[39mif\u001b[39;00m (f_a_0 \u001b[39m-\u001b[39;49m target) \u001b[39m*\u001b[39m (f_b_0 \u001b[39m-\u001b[39m target) \u001b[39m>\u001b[39m\u001b[39m=\u001b[39m \u001b[39m0\u001b[39m:\n\u001b[0;32m    156\u001b[0m     \u001b[39m# print(\"Bisection method fails.\")\u001b[39;00m\n\u001b[0;32m    157\u001b[0m     \u001b[39mreturn\u001b[39;00m \u001b[39mNone\u001b[39;00m\n\u001b[0;32m    159\u001b[0m \u001b[39m# Initialize the end points\u001b[39;00m\n",
      "\u001b[1;31mTypeError\u001b[0m: unsupported operand type(s) for -: 'float' and 'str'"
     ]
    }
   ],
   "source": [
    "break_even = model_1.goal_seek(obj_fn='profit', target='demand', by_changing=\"selling_price\", a=0, b=0, N=1000)"
   ]
  },
  {
   "attachments": {},
   "cell_type": "markdown",
   "metadata": {},
   "source": [
    "#### 1d - 2 Way Data Table"
   ]
  },
  {
   "cell_type": "code",
   "execution_count": null,
   "metadata": {},
   "outputs": [
    {
     "data": {
      "text/html": [
       "<div>\n",
       "<style scoped>\n",
       "    .dataframe tbody tr th:only-of-type {\n",
       "        vertical-align: middle;\n",
       "    }\n",
       "\n",
       "    .dataframe tbody tr th {\n",
       "        vertical-align: top;\n",
       "    }\n",
       "\n",
       "    .dataframe thead th {\n",
       "        text-align: right;\n",
       "    }\n",
       "</style>\n",
       "<table border=\"1\" class=\"dataframe\">\n",
       "  <thead>\n",
       "    <tr style=\"text-align: right;\">\n",
       "      <th></th>\n",
       "      <th>selling_price</th>\n",
       "      <th>variable_price</th>\n",
       "      <th>profit</th>\n",
       "      <th>demand</th>\n",
       "    </tr>\n",
       "  </thead>\n",
       "  <tbody>\n",
       "    <tr>\n",
       "      <th>0</th>\n",
       "      <td>80</td>\n",
       "      <td>85</td>\n",
       "      <td>-54680.0</td>\n",
       "      <td>2484.0</td>\n",
       "    </tr>\n",
       "    <tr>\n",
       "      <th>1</th>\n",
       "      <td>80</td>\n",
       "      <td>90</td>\n",
       "      <td>-54680.0</td>\n",
       "      <td>2484.0</td>\n",
       "    </tr>\n",
       "    <tr>\n",
       "      <th>2</th>\n",
       "      <td>80</td>\n",
       "      <td>95</td>\n",
       "      <td>-54680.0</td>\n",
       "      <td>2484.0</td>\n",
       "    </tr>\n",
       "    <tr>\n",
       "      <th>3</th>\n",
       "      <td>80</td>\n",
       "      <td>100</td>\n",
       "      <td>-54680.0</td>\n",
       "      <td>2484.0</td>\n",
       "    </tr>\n",
       "    <tr>\n",
       "      <th>4</th>\n",
       "      <td>80</td>\n",
       "      <td>105</td>\n",
       "      <td>-54680.0</td>\n",
       "      <td>2484.0</td>\n",
       "    </tr>\n",
       "    <tr>\n",
       "      <th>5</th>\n",
       "      <td>80</td>\n",
       "      <td>110</td>\n",
       "      <td>-54680.0</td>\n",
       "      <td>2484.0</td>\n",
       "    </tr>\n",
       "    <tr>\n",
       "      <th>6</th>\n",
       "      <td>90</td>\n",
       "      <td>85</td>\n",
       "      <td>-27360.0</td>\n",
       "      <td>2236.0</td>\n",
       "    </tr>\n",
       "    <tr>\n",
       "      <th>7</th>\n",
       "      <td>90</td>\n",
       "      <td>90</td>\n",
       "      <td>-27360.0</td>\n",
       "      <td>2236.0</td>\n",
       "    </tr>\n",
       "    <tr>\n",
       "      <th>8</th>\n",
       "      <td>90</td>\n",
       "      <td>95</td>\n",
       "      <td>-27360.0</td>\n",
       "      <td>2236.0</td>\n",
       "    </tr>\n",
       "    <tr>\n",
       "      <th>9</th>\n",
       "      <td>90</td>\n",
       "      <td>100</td>\n",
       "      <td>-27360.0</td>\n",
       "      <td>2236.0</td>\n",
       "    </tr>\n",
       "    <tr>\n",
       "      <th>10</th>\n",
       "      <td>90</td>\n",
       "      <td>105</td>\n",
       "      <td>-27360.0</td>\n",
       "      <td>2236.0</td>\n",
       "    </tr>\n",
       "    <tr>\n",
       "      <th>11</th>\n",
       "      <td>90</td>\n",
       "      <td>110</td>\n",
       "      <td>-27360.0</td>\n",
       "      <td>2236.0</td>\n",
       "    </tr>\n",
       "    <tr>\n",
       "      <th>12</th>\n",
       "      <td>100</td>\n",
       "      <td>85</td>\n",
       "      <td>-5000.0</td>\n",
       "      <td>2000.0</td>\n",
       "    </tr>\n",
       "    <tr>\n",
       "      <th>13</th>\n",
       "      <td>100</td>\n",
       "      <td>90</td>\n",
       "      <td>-5000.0</td>\n",
       "      <td>2000.0</td>\n",
       "    </tr>\n",
       "    <tr>\n",
       "      <th>14</th>\n",
       "      <td>100</td>\n",
       "      <td>95</td>\n",
       "      <td>-5000.0</td>\n",
       "      <td>2000.0</td>\n",
       "    </tr>\n",
       "    <tr>\n",
       "      <th>15</th>\n",
       "      <td>100</td>\n",
       "      <td>100</td>\n",
       "      <td>-5000.0</td>\n",
       "      <td>2000.0</td>\n",
       "    </tr>\n",
       "    <tr>\n",
       "      <th>16</th>\n",
       "      <td>100</td>\n",
       "      <td>105</td>\n",
       "      <td>-5000.0</td>\n",
       "      <td>2000.0</td>\n",
       "    </tr>\n",
       "    <tr>\n",
       "      <th>17</th>\n",
       "      <td>100</td>\n",
       "      <td>110</td>\n",
       "      <td>-5000.0</td>\n",
       "      <td>2000.0</td>\n",
       "    </tr>\n",
       "    <tr>\n",
       "      <th>18</th>\n",
       "      <td>110</td>\n",
       "      <td>85</td>\n",
       "      <td>12760.0</td>\n",
       "      <td>1776.0</td>\n",
       "    </tr>\n",
       "    <tr>\n",
       "      <th>19</th>\n",
       "      <td>110</td>\n",
       "      <td>90</td>\n",
       "      <td>12760.0</td>\n",
       "      <td>1776.0</td>\n",
       "    </tr>\n",
       "    <tr>\n",
       "      <th>20</th>\n",
       "      <td>110</td>\n",
       "      <td>95</td>\n",
       "      <td>12760.0</td>\n",
       "      <td>1776.0</td>\n",
       "    </tr>\n",
       "    <tr>\n",
       "      <th>21</th>\n",
       "      <td>110</td>\n",
       "      <td>100</td>\n",
       "      <td>12760.0</td>\n",
       "      <td>1776.0</td>\n",
       "    </tr>\n",
       "    <tr>\n",
       "      <th>22</th>\n",
       "      <td>110</td>\n",
       "      <td>105</td>\n",
       "      <td>12760.0</td>\n",
       "      <td>1776.0</td>\n",
       "    </tr>\n",
       "    <tr>\n",
       "      <th>23</th>\n",
       "      <td>110</td>\n",
       "      <td>110</td>\n",
       "      <td>12760.0</td>\n",
       "      <td>1776.0</td>\n",
       "    </tr>\n",
       "    <tr>\n",
       "      <th>24</th>\n",
       "      <td>120</td>\n",
       "      <td>85</td>\n",
       "      <td>26280.0</td>\n",
       "      <td>1564.0</td>\n",
       "    </tr>\n",
       "    <tr>\n",
       "      <th>25</th>\n",
       "      <td>120</td>\n",
       "      <td>90</td>\n",
       "      <td>26280.0</td>\n",
       "      <td>1564.0</td>\n",
       "    </tr>\n",
       "    <tr>\n",
       "      <th>26</th>\n",
       "      <td>120</td>\n",
       "      <td>95</td>\n",
       "      <td>26280.0</td>\n",
       "      <td>1564.0</td>\n",
       "    </tr>\n",
       "    <tr>\n",
       "      <th>27</th>\n",
       "      <td>120</td>\n",
       "      <td>100</td>\n",
       "      <td>26280.0</td>\n",
       "      <td>1564.0</td>\n",
       "    </tr>\n",
       "    <tr>\n",
       "      <th>28</th>\n",
       "      <td>120</td>\n",
       "      <td>105</td>\n",
       "      <td>26280.0</td>\n",
       "      <td>1564.0</td>\n",
       "    </tr>\n",
       "    <tr>\n",
       "      <th>29</th>\n",
       "      <td>120</td>\n",
       "      <td>110</td>\n",
       "      <td>26280.0</td>\n",
       "      <td>1564.0</td>\n",
       "    </tr>\n",
       "    <tr>\n",
       "      <th>30</th>\n",
       "      <td>130</td>\n",
       "      <td>85</td>\n",
       "      <td>35920.0</td>\n",
       "      <td>1364.0</td>\n",
       "    </tr>\n",
       "    <tr>\n",
       "      <th>31</th>\n",
       "      <td>130</td>\n",
       "      <td>90</td>\n",
       "      <td>35920.0</td>\n",
       "      <td>1364.0</td>\n",
       "    </tr>\n",
       "    <tr>\n",
       "      <th>32</th>\n",
       "      <td>130</td>\n",
       "      <td>95</td>\n",
       "      <td>35920.0</td>\n",
       "      <td>1364.0</td>\n",
       "    </tr>\n",
       "    <tr>\n",
       "      <th>33</th>\n",
       "      <td>130</td>\n",
       "      <td>100</td>\n",
       "      <td>35920.0</td>\n",
       "      <td>1364.0</td>\n",
       "    </tr>\n",
       "    <tr>\n",
       "      <th>34</th>\n",
       "      <td>130</td>\n",
       "      <td>105</td>\n",
       "      <td>35920.0</td>\n",
       "      <td>1364.0</td>\n",
       "    </tr>\n",
       "    <tr>\n",
       "      <th>35</th>\n",
       "      <td>130</td>\n",
       "      <td>110</td>\n",
       "      <td>35920.0</td>\n",
       "      <td>1364.0</td>\n",
       "    </tr>\n",
       "    <tr>\n",
       "      <th>36</th>\n",
       "      <td>140</td>\n",
       "      <td>85</td>\n",
       "      <td>42040.0</td>\n",
       "      <td>1176.0</td>\n",
       "    </tr>\n",
       "    <tr>\n",
       "      <th>37</th>\n",
       "      <td>140</td>\n",
       "      <td>90</td>\n",
       "      <td>42040.0</td>\n",
       "      <td>1176.0</td>\n",
       "    </tr>\n",
       "    <tr>\n",
       "      <th>38</th>\n",
       "      <td>140</td>\n",
       "      <td>95</td>\n",
       "      <td>42040.0</td>\n",
       "      <td>1176.0</td>\n",
       "    </tr>\n",
       "    <tr>\n",
       "      <th>39</th>\n",
       "      <td>140</td>\n",
       "      <td>100</td>\n",
       "      <td>42040.0</td>\n",
       "      <td>1176.0</td>\n",
       "    </tr>\n",
       "    <tr>\n",
       "      <th>40</th>\n",
       "      <td>140</td>\n",
       "      <td>105</td>\n",
       "      <td>42040.0</td>\n",
       "      <td>1176.0</td>\n",
       "    </tr>\n",
       "    <tr>\n",
       "      <th>41</th>\n",
       "      <td>140</td>\n",
       "      <td>110</td>\n",
       "      <td>42040.0</td>\n",
       "      <td>1176.0</td>\n",
       "    </tr>\n",
       "  </tbody>\n",
       "</table>\n",
       "</div>"
      ],
      "text/plain": [
       "    selling_price  variable_price   profit  demand\n",
       "0              80              85 -54680.0  2484.0\n",
       "1              80              90 -54680.0  2484.0\n",
       "2              80              95 -54680.0  2484.0\n",
       "3              80             100 -54680.0  2484.0\n",
       "4              80             105 -54680.0  2484.0\n",
       "5              80             110 -54680.0  2484.0\n",
       "6              90              85 -27360.0  2236.0\n",
       "7              90              90 -27360.0  2236.0\n",
       "8              90              95 -27360.0  2236.0\n",
       "9              90             100 -27360.0  2236.0\n",
       "10             90             105 -27360.0  2236.0\n",
       "11             90             110 -27360.0  2236.0\n",
       "12            100              85  -5000.0  2000.0\n",
       "13            100              90  -5000.0  2000.0\n",
       "14            100              95  -5000.0  2000.0\n",
       "15            100             100  -5000.0  2000.0\n",
       "16            100             105  -5000.0  2000.0\n",
       "17            100             110  -5000.0  2000.0\n",
       "18            110              85  12760.0  1776.0\n",
       "19            110              90  12760.0  1776.0\n",
       "20            110              95  12760.0  1776.0\n",
       "21            110             100  12760.0  1776.0\n",
       "22            110             105  12760.0  1776.0\n",
       "23            110             110  12760.0  1776.0\n",
       "24            120              85  26280.0  1564.0\n",
       "25            120              90  26280.0  1564.0\n",
       "26            120              95  26280.0  1564.0\n",
       "27            120             100  26280.0  1564.0\n",
       "28            120             105  26280.0  1564.0\n",
       "29            120             110  26280.0  1564.0\n",
       "30            130              85  35920.0  1364.0\n",
       "31            130              90  35920.0  1364.0\n",
       "32            130              95  35920.0  1364.0\n",
       "33            130             100  35920.0  1364.0\n",
       "34            130             105  35920.0  1364.0\n",
       "35            130             110  35920.0  1364.0\n",
       "36            140              85  42040.0  1176.0\n",
       "37            140              90  42040.0  1176.0\n",
       "38            140              95  42040.0  1176.0\n",
       "39            140             100  42040.0  1176.0\n",
       "40            140             105  42040.0  1176.0\n",
       "41            140             110  42040.0  1176.0"
      ]
     },
     "execution_count": 189,
     "metadata": {},
     "output_type": "execute_result"
    }
   ],
   "source": [
    "# set our price range based on the instructions\n",
    "inputs = {\n",
    "    'selling_price' : np.arange(80, 150, 10),\n",
    "    'variable_price' : np.arange(85, 115, 5)\n",
    "}\n",
    "\n",
    "# list our outputs\n",
    "outputs = ['profit', 'demand']\n",
    "\n",
    "# create our one way data table using the built in function the the `whatif.py` module\n",
    "m1_dt2_df = model_1.data_table(inputs, outputs)\n",
    "\n",
    "# check our dataframe\n",
    "m1_dt2_df"
   ]
  },
  {
   "cell_type": "code",
   "execution_count": null,
   "metadata": {},
   "outputs": [
    {
     "data": {
      "image/png": "[encoded data removed]",
      "text/plain": [
       "<Figure size 648x648 with 7 Axes>"
      ]
     },
     "metadata": {
      "needs_background": "light"
     },
     "output_type": "display_data"
    }
   ],
   "source": [
    "# Now lets plot our one way data table for profit\n",
    "m1_dt2_pl = sns.FacetGrid(m1_dt2_df, col=\"selling_price\", sharey=True, col_wrap=3)\n",
    "m1_dt2_pl = m1_dt2_pl.map(plt.plot, \"demand\", \"profit\")"
   ]
  },
  {
   "attachments": {},
   "cell_type": "markdown",
   "metadata": {},
   "source": [
    "#### 1e - Digging Deeper"
   ]
  },
  {
   "attachments": {},
   "cell_type": "markdown",
   "metadata": {},
   "source": [
    "I really dont understand how to make the goal seek work for this.\n",
    "\n",
    "I feel like the bookstore model didn't correlate well with this or maybe I just misunderstood the youtube videos."
   ]
  },
  {
   "attachments": {},
   "cell_type": "markdown",
   "metadata": {},
   "source": [
    "#### 1f - Simulation"
   ]
  },
  {
   "cell_type": "code",
   "execution_count": null,
   "metadata": {},
   "outputs": [
    {
     "data": {
      "text/plain": [
       "[{'order_quantity': 70},\n",
       " {'order_quantity': 120},\n",
       " {'order_quantity': 170},\n",
       " {'order_quantity': 220},\n",
       " {'order_quantity': 270},\n",
       " {'order_quantity': 320}]"
      ]
     },
     "execution_count": 17,
     "metadata": {},
     "output_type": "execute_result"
    }
   ],
   "source": [
    "# Create our model object\n",
    "model_2 = SingleProductSPF()\n",
    "\n",
    "num_reps = 100\n",
    "\n",
    "# input values\n",
    "random_inputs = {\n",
    "    'demand' : np.random.normal(\n",
    "                        193,\n",
    "                        40,\n",
    "                        num_reps\n",
    "                ),\n",
    "    'order_cost' : np.random.uniform(7,8,num_reps)\n",
    "}\n",
    "\n",
    "# scenario inputs\n",
    "scenario_inputs = {'order_quantity' : np.arange(70, 321, 50)}\n",
    "\n",
    "from sklearn.model_selection._search import ParameterGrid\n",
    "\n",
    "list(ParameterGrid(scenario_inputs))"
   ]
  },
  {
   "cell_type": "code",
   "execution_count": null,
   "metadata": {},
   "outputs": [
    {
     "ename": "TypeError",
     "evalue": "'numpy.ndarray' object is not callable",
     "output_type": "error",
     "traceback": [
      "\u001b[1;31m---------------------------------------------------------------------------\u001b[0m",
      "\u001b[1;31mTypeError\u001b[0m                                 Traceback (most recent call last)",
      "\u001b[1;32mc:\\Users\\slidw\\Desktop\\AAwP\\hw2_aap\\hw2_aap\\Analysis_1_BasicBreakEven.ipynb Cell 28\u001b[0m in \u001b[0;36m<cell line: 5>\u001b[1;34m()\u001b[0m\n\u001b[0;32m      <a href='vscode-notebook-cell:/c%3A/Users/slidw/Desktop/AAwP/hw2_aap/hw2_aap/Analysis_1_BasicBreakEven.ipynb#X36sZmlsZQ%3D%3D?line=0'>1</a>\u001b[0m sim_outputs \u001b[39m=\u001b[39m [\u001b[39m\"\u001b[39m\u001b[39mprofit\u001b[39m\u001b[39m\"\u001b[39m]\n\u001b[1;32m----> <a href='vscode-notebook-cell:/c%3A/Users/slidw/Desktop/AAwP/hw2_aap/hw2_aap/Analysis_1_BasicBreakEven.ipynb#X36sZmlsZQ%3D%3D?line=4'>5</a>\u001b[0m model_2\u001b[39m.\u001b[39;49msimulate(\n\u001b[0;32m      <a href='vscode-notebook-cell:/c%3A/Users/slidw/Desktop/AAwP/hw2_aap/hw2_aap/Analysis_1_BasicBreakEven.ipynb#X36sZmlsZQ%3D%3D?line=5'>6</a>\u001b[0m     random_inputs\u001b[39m=\u001b[39;49mrandom_inputs,\n\u001b[0;32m      <a href='vscode-notebook-cell:/c%3A/Users/slidw/Desktop/AAwP/hw2_aap/hw2_aap/Analysis_1_BasicBreakEven.ipynb#X36sZmlsZQ%3D%3D?line=6'>7</a>\u001b[0m     outputs\u001b[39m=\u001b[39;49msim_outputs, \n\u001b[0;32m      <a href='vscode-notebook-cell:/c%3A/Users/slidw/Desktop/AAwP/hw2_aap/hw2_aap/Analysis_1_BasicBreakEven.ipynb#X36sZmlsZQ%3D%3D?line=7'>8</a>\u001b[0m     scenario_inputs\u001b[39m=\u001b[39;49mscenario_inputs, \n\u001b[0;32m      <a href='vscode-notebook-cell:/c%3A/Users/slidw/Desktop/AAwP/hw2_aap/hw2_aap/Analysis_1_BasicBreakEven.ipynb#X36sZmlsZQ%3D%3D?line=8'>9</a>\u001b[0m     keep_random_inputs\u001b[39m=\u001b[39;49m\u001b[39mFalse\u001b[39;49;00m\n\u001b[0;32m     <a href='vscode-notebook-cell:/c%3A/Users/slidw/Desktop/AAwP/hw2_aap/hw2_aap/Analysis_1_BasicBreakEven.ipynb#X36sZmlsZQ%3D%3D?line=9'>10</a>\u001b[0m )\n",
      "File \u001b[1;32mc:\\Users\\slidw\\Desktop\\AAwP\\hw2_aap\\hw2_aap\\whatif.py:263\u001b[0m, in \u001b[0;36mModel.simulate\u001b[1;34m(self, random_inputs, outputs, scenario_inputs, keep_random_inputs)\u001b[0m\n\u001b[0;32m    261\u001b[0m \u001b[39m# Output measure loop\u001b[39;00m\n\u001b[0;32m    262\u001b[0m \u001b[39mfor\u001b[39;00m output_name \u001b[39min\u001b[39;00m outputs:\n\u001b[1;32m--> 263\u001b[0m     output_array \u001b[39m=\u001b[39m \u001b[39mgetattr\u001b[39;49m(model_clone, output_name)()\n\u001b[0;32m    264\u001b[0m     raw_output[output_name] \u001b[39m=\u001b[39m output_array\n\u001b[0;32m    266\u001b[0m \u001b[39m# Gather results for this scenario\u001b[39;00m\n",
      "\u001b[1;32mc:\\Users\\slidw\\Desktop\\AAwP\\hw2_aap\\hw2_aap\\Analysis_1_BasicBreakEven.ipynb Cell 28\u001b[0m in \u001b[0;36mSingleProductSPF.profit\u001b[1;34m(self)\u001b[0m\n\u001b[0;32m     <a href='vscode-notebook-cell:/c%3A/Users/slidw/Desktop/AAwP/hw2_aap/hw2_aap/Analysis_1_BasicBreakEven.ipynb#X36sZmlsZQ%3D%3D?line=32'>33</a>\u001b[0m \u001b[39mdef\u001b[39;00m \u001b[39mprofit\u001b[39m(\u001b[39mself\u001b[39m):\n\u001b[0;32m     <a href='vscode-notebook-cell:/c%3A/Users/slidw/Desktop/AAwP/hw2_aap/hw2_aap/Analysis_1_BasicBreakEven.ipynb#X36sZmlsZQ%3D%3D?line=33'>34</a>\u001b[0m     \u001b[39m### compute profit function ###\u001b[39;00m\n\u001b[1;32m---> <a href='vscode-notebook-cell:/c%3A/Users/slidw/Desktop/AAwP/hw2_aap/hw2_aap/Analysis_1_BasicBreakEven.ipynb#X36sZmlsZQ%3D%3D?line=34'>35</a>\u001b[0m     p \u001b[39m=\u001b[39m \u001b[39mself\u001b[39;49m\u001b[39m.\u001b[39;49msales_revenue() \u001b[39m-\u001b[39m \u001b[39mself\u001b[39m\u001b[39m.\u001b[39morder_cost()\n\u001b[0;32m     <a href='vscode-notebook-cell:/c%3A/Users/slidw/Desktop/AAwP/hw2_aap/hw2_aap/Analysis_1_BasicBreakEven.ipynb#X36sZmlsZQ%3D%3D?line=35'>36</a>\u001b[0m     \u001b[39mreturn\u001b[39;00m p\n",
      "\u001b[1;32mc:\\Users\\slidw\\Desktop\\AAwP\\hw2_aap\\hw2_aap\\Analysis_1_BasicBreakEven.ipynb Cell 28\u001b[0m in \u001b[0;36mSingleProductSPF.sales_revenue\u001b[1;34m(self)\u001b[0m\n\u001b[0;32m     <a href='vscode-notebook-cell:/c%3A/Users/slidw/Desktop/AAwP/hw2_aap/hw2_aap/Analysis_1_BasicBreakEven.ipynb#X36sZmlsZQ%3D%3D?line=27'>28</a>\u001b[0m \u001b[39mdef\u001b[39;00m \u001b[39msales_revenue\u001b[39m(\u001b[39mself\u001b[39m):\n\u001b[0;32m     <a href='vscode-notebook-cell:/c%3A/Users/slidw/Desktop/AAwP/hw2_aap/hw2_aap/Analysis_1_BasicBreakEven.ipynb#X36sZmlsZQ%3D%3D?line=28'>29</a>\u001b[0m     \u001b[39m### compute sales revenue ###\u001b[39;00m\n\u001b[1;32m---> <a href='vscode-notebook-cell:/c%3A/Users/slidw/Desktop/AAwP/hw2_aap/hw2_aap/Analysis_1_BasicBreakEven.ipynb#X36sZmlsZQ%3D%3D?line=29'>30</a>\u001b[0m     sales_r \u001b[39m=\u001b[39m \u001b[39mself\u001b[39;49m\u001b[39m.\u001b[39;49mdemand() \u001b[39m*\u001b[39m \u001b[39mself\u001b[39m\u001b[39m.\u001b[39mselling_price\n\u001b[0;32m     <a href='vscode-notebook-cell:/c%3A/Users/slidw/Desktop/AAwP/hw2_aap/hw2_aap/Analysis_1_BasicBreakEven.ipynb#X36sZmlsZQ%3D%3D?line=30'>31</a>\u001b[0m     \u001b[39mreturn\u001b[39;00m sales_r\n",
      "\u001b[1;31mTypeError\u001b[0m: 'numpy.ndarray' object is not callable"
     ]
    }
   ],
   "source": [
    "sim_outputs = [\"profit\"]\n",
    "\n",
    "model_2.simulate(\n",
    "    random_inputs=random_inputs,\n",
    "    outputs=sim_outputs, \n",
    "    scenario_inputs=scenario_inputs, \n",
    "    keep_random_inputs=False\n",
    ")"
   ]
  },
  {
   "attachments": {},
   "cell_type": "markdown",
   "metadata": {},
   "source": [
    "And again, I really don't undertstand how to use this with the model. Like I feel as if I'm doing the same thing but I never get the same results."
   ]
  }
 ],
 "metadata": {
  "kernelspec": {
   "display_name": "Python 3",
   "language": "python",
   "name": "python3"
  },
  "language_info": {
   "codemirror_mode": {
    "name": "ipython",
    "version": 3
   },
   "file_extension": ".py",
   "mimetype": "text/x-python",
   "name": "python",
   "nbconvert_exporter": "python",
   "pygments_lexer": "ipython3",
   "version": "3.10.4"
  },
  "toc-autonumbering": true
 },
 "nbformat": 4,
 "nbformat_minor": 4
}
